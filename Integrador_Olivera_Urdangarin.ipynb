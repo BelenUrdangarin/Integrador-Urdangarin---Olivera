{
  "nbformat": 4,
  "nbformat_minor": 0,
  "metadata": {
    "colab": {
      "provenance": [],
      "include_colab_link": true
    },
    "kernelspec": {
      "name": "python3",
      "display_name": "Python 3"
    },
    "language_info": {
      "name": "python"
    }
  },
  "cells": [
    {
      "cell_type": "markdown",
      "metadata": {
        "id": "view-in-github",
        "colab_type": "text"
      },
      "source": [
        "<a href=\"https://colab.research.google.com/github/BelenUrdangarin/Integrador-Urdangarin---Olivera/blob/main/Integrador_Olivera_Urdangarin.ipynb\" target=\"_parent\"><img src=\"https://colab.research.google.com/assets/colab-badge.svg\" alt=\"Open In Colab\"/></a>"
      ]
    },
    {
      "cell_type": "markdown",
      "source": [
        "## Energia renovable\n",
        "\n",
        "Objetivo:\n",
        "- Analizar la situación actual de los diferentes paises en material energetico, de población y de consumo energetico\n",
        "- Analizar la mayor fuente de energia renovable por pais\n",
        "- Ver la tendencia de los paises segun el ingreso\n",
        "- Ver patrones climaticos de los paises de interes para generar soluciones en materia de energias renovables.\n",
        "- Hacer un analisis de lo anterior por region de forma comparativa\n",
        "\n",
        "Acceso a la DATA\n",
        "- https://data360.worldbank.org/en/dataset/WB_SE4ALL (otro)\n",
        "- https://www.kaggle.com/code/mehmetisik/02-the-evolution-of-modern-renewable-energy/input?select=01+renewable-share-energy.csv\n",
        "\n",
        "\n",
        "Bibliografia\n",
        "- https://www.irena.org/-/media/Files/IRENA/Agency/Publication/2022/Mar/IRENA_Renewable_Roadmap_Central_America_2022_ES.pdf"
      ],
      "metadata": {
        "id": "KPOyinau9__0"
      }
    },
    {
      "cell_type": "markdown",
      "source": [
        "## Que tipos de energias renovables existen?\n",
        "- Solar: se obtiene del sol a través de la radiación electromagnética, que incluye luz, calor y rayos ultravioleta. Se puede aprovechar de diferentes maneras, como con paneles solares fotovoltaicos y colectores solares térmicos.\n",
        "\n",
        "- Eólica: aprovecha la fuerza del viento para generar electricidad. Este proceso se realiza a través de aerogeneradores, que capturan la energía cinética del viento y la convierten en electricidad.\n",
        "\n",
        "- Hidráulica: utiliza la fuerza del agua en movimiento para generar electricidad.  Se aprovecha la energía cinética y potencial del agua en saltos de agua, corrientes o mareas para mover turbinas, las cuales, a través de un generador, producen electricidad.\n",
        "\n",
        "- Otras: Dentro de esta categoria encontramos\n",
        "\n",
        " - Energía de Biomasa: Se aprovecha la materia orgánica (residuos orgánicos, cultivos energéticos, etc.) para generar energía, ya sea mediante combustión o conversión en biocombustibles.\n",
        " - Energía Geotérmica: Se utiliza el calor del interior de la Tierra para generar electricidad o calefacción.\n",
        " - Energía Marina: Se aprovecha la energía de las olas, mareas y corrientes marinas para generar electricidad.\n",
        " - Energía Mareomotriz: Utiliza la fuerza de las mareas para generar electricidad.\n",
        " - Energía Undimotriz: Utiliza la energía de las olas para generar electricidad."
      ],
      "metadata": {
        "id": "E8r6OFIWiNZF"
      }
    },
    {
      "cell_type": "code",
      "execution_count": 2,
      "metadata": {
        "id": "rdLmLxFy9P43"
      },
      "outputs": [],
      "source": [
        "import pandas as pd\n",
        "import numpy as np\n",
        "import matplotlib.pyplot as plt\n",
        "import seaborn as sns\n",
        "from scipy import stats\n",
        "from scipy.stats import zscore"
      ]
    },
    {
      "cell_type": "markdown",
      "source": [
        "Vamos a cargar todos los archivos que vamos a utilizar, en orden de carga tenemos:\n",
        "\n",
        "- En *ren_ener* encontramos datos sobre el acceso que tiene la poblacion de un país, rural o urbana a la electricidad, junto con la eficiencia energetica de cada país.\n",
        "- En *cons_ren* encontramos el consumo de energia por país, continente y región.\n",
        "- En *prod_ren* encontramos la producción de energia por país, región y continente.\n",
        "- En *clim_pais*"
      ],
      "metadata": {
        "id": "loGKkfrjDEBx"
      }
    },
    {
      "cell_type": "code",
      "source": [
        "ren_ener = pd.read_csv(\"https://raw.githubusercontent.com/BelenUrdangarin/Integrador-Urdangarin---Olivera/main/sus_ener.csv\", sep=',',on_bad_lines='skip',na_values=\"..\") #Importo los datos\n",
        "cons_ren = pd.read_csv(\"https://raw.githubusercontent.com/BelenUrdangarin/Integrador-Urdangarin---Olivera/main/consener.csv\", sep=',',on_bad_lines='skip',na_values=\"..\")\n",
        "prod_ren = pd.read_csv(\"https://raw.githubusercontent.com/BelenUrdangarin/Integrador-Urdangarin---Olivera/main/prodener.csv\", sep=',',on_bad_lines='skip',na_values=\"..\")\n",
        "clim_pais = pd.read_csv(\"https://raw.githubusercontent.com/BelenUrdangarin/Integrador-Urdangarin---Olivera/main/GlobalWeatherRepository.csv\", sep=',',on_bad_lines='skip',na_values=\"..\")\n",
        "pob_Rural = pd.read_csv(\"https://raw.githubusercontent.com/BelenUrdangarin/Integrador-Urdangarin---Olivera/main/Pob_Rural.csv\", na_values=[\"..\", \"n/a\", \"NA\", \"\"])\n",
        "#Fue necesario especificar el separador de columnas, saltear columnas que tengan datos extras\n",
        "#Ademas de especificarle a pandas cual era el formato que utilizaba el dataframe como dato vacio, ya que no lo reconocia"
      ],
      "metadata": {
        "id": "k4yt3s18-vOS"
      },
      "execution_count": 3,
      "outputs": []
    },
    {
      "cell_type": "markdown",
      "source": [
        "## Produccion mundial de energia renovable por continente y región"
      ],
      "metadata": {
        "id": "NoTlrWabMWbb"
      }
    },
    {
      "cell_type": "code",
      "source": [
        "#Veamos cuantos datos manejamos\n",
        "prod_ren.shape\n"
      ],
      "metadata": {
        "colab": {
          "base_uri": "https://localhost:8080/"
        },
        "id": "fSY8gRFiADxD",
        "outputId": "c1452315-1b0a-4684-9fd8-c4623ad33b80"
      },
      "execution_count": 4,
      "outputs": [
        {
          "output_type": "execute_result",
          "data": {
            "text/plain": [
              "(8851, 7)"
            ]
          },
          "metadata": {},
          "execution_count": 4
        }
      ]
    },
    {
      "cell_type": "code",
      "source": [
        "prod_ren.tail() #Va hasta el año 2021"
      ],
      "metadata": {
        "colab": {
          "base_uri": "https://localhost:8080/",
          "height": 224
        },
        "id": "04oVQBr3CatE",
        "outputId": "36a447fa-5c01-4022-9e64-28b4ecb75243"
      },
      "execution_count": 5,
      "outputs": [
        {
          "output_type": "execute_result",
          "data": {
            "text/plain": [
              "        Entity Code  Year  Electricity from wind (TWh)  \\\n",
              "8846  Zimbabwe  ZWE  2017                          0.0   \n",
              "8847  Zimbabwe  ZWE  2018                          0.0   \n",
              "8848  Zimbabwe  ZWE  2019                          0.0   \n",
              "8849  Zimbabwe  ZWE  2020                          0.0   \n",
              "8850  Zimbabwe  ZWE  2021                          0.0   \n",
              "\n",
              "      Electricity from hydro (TWh)  Electricity from solar (TWh)  \\\n",
              "8846                          3.97                          0.01   \n",
              "8847                          5.05                          0.02   \n",
              "8848                          4.17                          0.03   \n",
              "8849                          3.81                          0.03   \n",
              "8850                          4.00                          0.04   \n",
              "\n",
              "      Other renewables including bioenergy (TWh)  \n",
              "8846                                        0.32  \n",
              "8847                                        0.39  \n",
              "8848                                        0.38  \n",
              "8849                                        0.35  \n",
              "8850                                        0.38  "
            ],
            "text/html": [
              "\n",
              "  <div id=\"df-9f01dc99-c313-43ca-ae6d-6a7ffb366c42\" class=\"colab-df-container\">\n",
              "    <div>\n",
              "<style scoped>\n",
              "    .dataframe tbody tr th:only-of-type {\n",
              "        vertical-align: middle;\n",
              "    }\n",
              "\n",
              "    .dataframe tbody tr th {\n",
              "        vertical-align: top;\n",
              "    }\n",
              "\n",
              "    .dataframe thead th {\n",
              "        text-align: right;\n",
              "    }\n",
              "</style>\n",
              "<table border=\"1\" class=\"dataframe\">\n",
              "  <thead>\n",
              "    <tr style=\"text-align: right;\">\n",
              "      <th></th>\n",
              "      <th>Entity</th>\n",
              "      <th>Code</th>\n",
              "      <th>Year</th>\n",
              "      <th>Electricity from wind (TWh)</th>\n",
              "      <th>Electricity from hydro (TWh)</th>\n",
              "      <th>Electricity from solar (TWh)</th>\n",
              "      <th>Other renewables including bioenergy (TWh)</th>\n",
              "    </tr>\n",
              "  </thead>\n",
              "  <tbody>\n",
              "    <tr>\n",
              "      <th>8846</th>\n",
              "      <td>Zimbabwe</td>\n",
              "      <td>ZWE</td>\n",
              "      <td>2017</td>\n",
              "      <td>0.0</td>\n",
              "      <td>3.97</td>\n",
              "      <td>0.01</td>\n",
              "      <td>0.32</td>\n",
              "    </tr>\n",
              "    <tr>\n",
              "      <th>8847</th>\n",
              "      <td>Zimbabwe</td>\n",
              "      <td>ZWE</td>\n",
              "      <td>2018</td>\n",
              "      <td>0.0</td>\n",
              "      <td>5.05</td>\n",
              "      <td>0.02</td>\n",
              "      <td>0.39</td>\n",
              "    </tr>\n",
              "    <tr>\n",
              "      <th>8848</th>\n",
              "      <td>Zimbabwe</td>\n",
              "      <td>ZWE</td>\n",
              "      <td>2019</td>\n",
              "      <td>0.0</td>\n",
              "      <td>4.17</td>\n",
              "      <td>0.03</td>\n",
              "      <td>0.38</td>\n",
              "    </tr>\n",
              "    <tr>\n",
              "      <th>8849</th>\n",
              "      <td>Zimbabwe</td>\n",
              "      <td>ZWE</td>\n",
              "      <td>2020</td>\n",
              "      <td>0.0</td>\n",
              "      <td>3.81</td>\n",
              "      <td>0.03</td>\n",
              "      <td>0.35</td>\n",
              "    </tr>\n",
              "    <tr>\n",
              "      <th>8850</th>\n",
              "      <td>Zimbabwe</td>\n",
              "      <td>ZWE</td>\n",
              "      <td>2021</td>\n",
              "      <td>0.0</td>\n",
              "      <td>4.00</td>\n",
              "      <td>0.04</td>\n",
              "      <td>0.38</td>\n",
              "    </tr>\n",
              "  </tbody>\n",
              "</table>\n",
              "</div>\n",
              "    <div class=\"colab-df-buttons\">\n",
              "\n",
              "  <div class=\"colab-df-container\">\n",
              "    <button class=\"colab-df-convert\" onclick=\"convertToInteractive('df-9f01dc99-c313-43ca-ae6d-6a7ffb366c42')\"\n",
              "            title=\"Convert this dataframe to an interactive table.\"\n",
              "            style=\"display:none;\">\n",
              "\n",
              "  <svg xmlns=\"http://www.w3.org/2000/svg\" height=\"24px\" viewBox=\"0 -960 960 960\">\n",
              "    <path d=\"M120-120v-720h720v720H120Zm60-500h600v-160H180v160Zm220 220h160v-160H400v160Zm0 220h160v-160H400v160ZM180-400h160v-160H180v160Zm440 0h160v-160H620v160ZM180-180h160v-160H180v160Zm440 0h160v-160H620v160Z\"/>\n",
              "  </svg>\n",
              "    </button>\n",
              "\n",
              "  <style>\n",
              "    .colab-df-container {\n",
              "      display:flex;\n",
              "      gap: 12px;\n",
              "    }\n",
              "\n",
              "    .colab-df-convert {\n",
              "      background-color: #E8F0FE;\n",
              "      border: none;\n",
              "      border-radius: 50%;\n",
              "      cursor: pointer;\n",
              "      display: none;\n",
              "      fill: #1967D2;\n",
              "      height: 32px;\n",
              "      padding: 0 0 0 0;\n",
              "      width: 32px;\n",
              "    }\n",
              "\n",
              "    .colab-df-convert:hover {\n",
              "      background-color: #E2EBFA;\n",
              "      box-shadow: 0px 1px 2px rgba(60, 64, 67, 0.3), 0px 1px 3px 1px rgba(60, 64, 67, 0.15);\n",
              "      fill: #174EA6;\n",
              "    }\n",
              "\n",
              "    .colab-df-buttons div {\n",
              "      margin-bottom: 4px;\n",
              "    }\n",
              "\n",
              "    [theme=dark] .colab-df-convert {\n",
              "      background-color: #3B4455;\n",
              "      fill: #D2E3FC;\n",
              "    }\n",
              "\n",
              "    [theme=dark] .colab-df-convert:hover {\n",
              "      background-color: #434B5C;\n",
              "      box-shadow: 0px 1px 3px 1px rgba(0, 0, 0, 0.15);\n",
              "      filter: drop-shadow(0px 1px 2px rgba(0, 0, 0, 0.3));\n",
              "      fill: #FFFFFF;\n",
              "    }\n",
              "  </style>\n",
              "\n",
              "    <script>\n",
              "      const buttonEl =\n",
              "        document.querySelector('#df-9f01dc99-c313-43ca-ae6d-6a7ffb366c42 button.colab-df-convert');\n",
              "      buttonEl.style.display =\n",
              "        google.colab.kernel.accessAllowed ? 'block' : 'none';\n",
              "\n",
              "      async function convertToInteractive(key) {\n",
              "        const element = document.querySelector('#df-9f01dc99-c313-43ca-ae6d-6a7ffb366c42');\n",
              "        const dataTable =\n",
              "          await google.colab.kernel.invokeFunction('convertToInteractive',\n",
              "                                                    [key], {});\n",
              "        if (!dataTable) return;\n",
              "\n",
              "        const docLinkHtml = 'Like what you see? Visit the ' +\n",
              "          '<a target=\"_blank\" href=https://colab.research.google.com/notebooks/data_table.ipynb>data table notebook</a>'\n",
              "          + ' to learn more about interactive tables.';\n",
              "        element.innerHTML = '';\n",
              "        dataTable['output_type'] = 'display_data';\n",
              "        await google.colab.output.renderOutput(dataTable, element);\n",
              "        const docLink = document.createElement('div');\n",
              "        docLink.innerHTML = docLinkHtml;\n",
              "        element.appendChild(docLink);\n",
              "      }\n",
              "    </script>\n",
              "  </div>\n",
              "\n",
              "\n",
              "    <div id=\"df-fc3707e1-84bd-43d3-8105-4e4ff180ca2b\">\n",
              "      <button class=\"colab-df-quickchart\" onclick=\"quickchart('df-fc3707e1-84bd-43d3-8105-4e4ff180ca2b')\"\n",
              "                title=\"Suggest charts\"\n",
              "                style=\"display:none;\">\n",
              "\n",
              "<svg xmlns=\"http://www.w3.org/2000/svg\" height=\"24px\"viewBox=\"0 0 24 24\"\n",
              "     width=\"24px\">\n",
              "    <g>\n",
              "        <path d=\"M19 3H5c-1.1 0-2 .9-2 2v14c0 1.1.9 2 2 2h14c1.1 0 2-.9 2-2V5c0-1.1-.9-2-2-2zM9 17H7v-7h2v7zm4 0h-2V7h2v10zm4 0h-2v-4h2v4z\"/>\n",
              "    </g>\n",
              "</svg>\n",
              "      </button>\n",
              "\n",
              "<style>\n",
              "  .colab-df-quickchart {\n",
              "      --bg-color: #E8F0FE;\n",
              "      --fill-color: #1967D2;\n",
              "      --hover-bg-color: #E2EBFA;\n",
              "      --hover-fill-color: #174EA6;\n",
              "      --disabled-fill-color: #AAA;\n",
              "      --disabled-bg-color: #DDD;\n",
              "  }\n",
              "\n",
              "  [theme=dark] .colab-df-quickchart {\n",
              "      --bg-color: #3B4455;\n",
              "      --fill-color: #D2E3FC;\n",
              "      --hover-bg-color: #434B5C;\n",
              "      --hover-fill-color: #FFFFFF;\n",
              "      --disabled-bg-color: #3B4455;\n",
              "      --disabled-fill-color: #666;\n",
              "  }\n",
              "\n",
              "  .colab-df-quickchart {\n",
              "    background-color: var(--bg-color);\n",
              "    border: none;\n",
              "    border-radius: 50%;\n",
              "    cursor: pointer;\n",
              "    display: none;\n",
              "    fill: var(--fill-color);\n",
              "    height: 32px;\n",
              "    padding: 0;\n",
              "    width: 32px;\n",
              "  }\n",
              "\n",
              "  .colab-df-quickchart:hover {\n",
              "    background-color: var(--hover-bg-color);\n",
              "    box-shadow: 0 1px 2px rgba(60, 64, 67, 0.3), 0 1px 3px 1px rgba(60, 64, 67, 0.15);\n",
              "    fill: var(--button-hover-fill-color);\n",
              "  }\n",
              "\n",
              "  .colab-df-quickchart-complete:disabled,\n",
              "  .colab-df-quickchart-complete:disabled:hover {\n",
              "    background-color: var(--disabled-bg-color);\n",
              "    fill: var(--disabled-fill-color);\n",
              "    box-shadow: none;\n",
              "  }\n",
              "\n",
              "  .colab-df-spinner {\n",
              "    border: 2px solid var(--fill-color);\n",
              "    border-color: transparent;\n",
              "    border-bottom-color: var(--fill-color);\n",
              "    animation:\n",
              "      spin 1s steps(1) infinite;\n",
              "  }\n",
              "\n",
              "  @keyframes spin {\n",
              "    0% {\n",
              "      border-color: transparent;\n",
              "      border-bottom-color: var(--fill-color);\n",
              "      border-left-color: var(--fill-color);\n",
              "    }\n",
              "    20% {\n",
              "      border-color: transparent;\n",
              "      border-left-color: var(--fill-color);\n",
              "      border-top-color: var(--fill-color);\n",
              "    }\n",
              "    30% {\n",
              "      border-color: transparent;\n",
              "      border-left-color: var(--fill-color);\n",
              "      border-top-color: var(--fill-color);\n",
              "      border-right-color: var(--fill-color);\n",
              "    }\n",
              "    40% {\n",
              "      border-color: transparent;\n",
              "      border-right-color: var(--fill-color);\n",
              "      border-top-color: var(--fill-color);\n",
              "    }\n",
              "    60% {\n",
              "      border-color: transparent;\n",
              "      border-right-color: var(--fill-color);\n",
              "    }\n",
              "    80% {\n",
              "      border-color: transparent;\n",
              "      border-right-color: var(--fill-color);\n",
              "      border-bottom-color: var(--fill-color);\n",
              "    }\n",
              "    90% {\n",
              "      border-color: transparent;\n",
              "      border-bottom-color: var(--fill-color);\n",
              "    }\n",
              "  }\n",
              "</style>\n",
              "\n",
              "      <script>\n",
              "        async function quickchart(key) {\n",
              "          const quickchartButtonEl =\n",
              "            document.querySelector('#' + key + ' button');\n",
              "          quickchartButtonEl.disabled = true;  // To prevent multiple clicks.\n",
              "          quickchartButtonEl.classList.add('colab-df-spinner');\n",
              "          try {\n",
              "            const charts = await google.colab.kernel.invokeFunction(\n",
              "                'suggestCharts', [key], {});\n",
              "          } catch (error) {\n",
              "            console.error('Error during call to suggestCharts:', error);\n",
              "          }\n",
              "          quickchartButtonEl.classList.remove('colab-df-spinner');\n",
              "          quickchartButtonEl.classList.add('colab-df-quickchart-complete');\n",
              "        }\n",
              "        (() => {\n",
              "          let quickchartButtonEl =\n",
              "            document.querySelector('#df-fc3707e1-84bd-43d3-8105-4e4ff180ca2b button');\n",
              "          quickchartButtonEl.style.display =\n",
              "            google.colab.kernel.accessAllowed ? 'block' : 'none';\n",
              "        })();\n",
              "      </script>\n",
              "    </div>\n",
              "\n",
              "    </div>\n",
              "  </div>\n"
            ],
            "application/vnd.google.colaboratory.intrinsic+json": {
              "type": "dataframe",
              "summary": "{\n  \"name\": \"prod_ren\",\n  \"rows\": 5,\n  \"fields\": [\n    {\n      \"column\": \"Entity\",\n      \"properties\": {\n        \"dtype\": \"category\",\n        \"num_unique_values\": 1,\n        \"samples\": [\n          \"Zimbabwe\"\n        ],\n        \"semantic_type\": \"\",\n        \"description\": \"\"\n      }\n    },\n    {\n      \"column\": \"Code\",\n      \"properties\": {\n        \"dtype\": \"category\",\n        \"num_unique_values\": 1,\n        \"samples\": [\n          \"ZWE\"\n        ],\n        \"semantic_type\": \"\",\n        \"description\": \"\"\n      }\n    },\n    {\n      \"column\": \"Year\",\n      \"properties\": {\n        \"dtype\": \"number\",\n        \"std\": 1,\n        \"min\": 2017,\n        \"max\": 2021,\n        \"num_unique_values\": 5,\n        \"samples\": [\n          2018\n        ],\n        \"semantic_type\": \"\",\n        \"description\": \"\"\n      }\n    },\n    {\n      \"column\": \"Electricity from wind (TWh)\",\n      \"properties\": {\n        \"dtype\": \"number\",\n        \"std\": 0.0,\n        \"min\": 0.0,\n        \"max\": 0.0,\n        \"num_unique_values\": 1,\n        \"samples\": [\n          0.0\n        ],\n        \"semantic_type\": \"\",\n        \"description\": \"\"\n      }\n    },\n    {\n      \"column\": \"Electricity from hydro (TWh)\",\n      \"properties\": {\n        \"dtype\": \"number\",\n        \"std\": 0.4920365840057016,\n        \"min\": 3.81,\n        \"max\": 5.05,\n        \"num_unique_values\": 5,\n        \"samples\": [\n          5.05\n        ],\n        \"semantic_type\": \"\",\n        \"description\": \"\"\n      }\n    },\n    {\n      \"column\": \"Electricity from solar (TWh)\",\n      \"properties\": {\n        \"dtype\": \"number\",\n        \"std\": 0.011401754250991379,\n        \"min\": 0.01,\n        \"max\": 0.04,\n        \"num_unique_values\": 4,\n        \"samples\": [\n          0.02\n        ],\n        \"semantic_type\": \"\",\n        \"description\": \"\"\n      }\n    },\n    {\n      \"column\": \"Other renewables including bioenergy (TWh)\",\n      \"properties\": {\n        \"dtype\": \"number\",\n        \"std\": 0.028809720581775874,\n        \"min\": 0.32,\n        \"max\": 0.39,\n        \"num_unique_values\": 4,\n        \"samples\": [\n          0.39\n        ],\n        \"semantic_type\": \"\",\n        \"description\": \"\"\n      }\n    }\n  ]\n}"
            }
          },
          "metadata": {},
          "execution_count": 5
        }
      ]
    },
    {
      "cell_type": "code",
      "source": [
        "prod_ren.head(10) #Comienza en el año 2000"
      ],
      "metadata": {
        "colab": {
          "base_uri": "https://localhost:8080/",
          "height": 380
        },
        "id": "T0jC_d95_7-O",
        "outputId": "a6f8c285-df30-4dda-ad99-10cfbda9820c"
      },
      "execution_count": 6,
      "outputs": [
        {
          "output_type": "execute_result",
          "data": {
            "text/plain": [
              "        Entity Code  Year  Electricity from wind (TWh)  \\\n",
              "0  Afghanistan  AFG  2000                          0.0   \n",
              "1  Afghanistan  AFG  2001                          0.0   \n",
              "2  Afghanistan  AFG  2002                          0.0   \n",
              "3  Afghanistan  AFG  2003                          0.0   \n",
              "4  Afghanistan  AFG  2004                          0.0   \n",
              "5  Afghanistan  AFG  2005                          0.0   \n",
              "6  Afghanistan  AFG  2006                          0.0   \n",
              "7  Afghanistan  AFG  2007                          0.0   \n",
              "8  Afghanistan  AFG  2008                          0.0   \n",
              "9  Afghanistan  AFG  2009                          0.0   \n",
              "\n",
              "   Electricity from hydro (TWh)  Electricity from solar (TWh)  \\\n",
              "0                          0.31                           0.0   \n",
              "1                          0.50                           0.0   \n",
              "2                          0.56                           0.0   \n",
              "3                          0.63                           0.0   \n",
              "4                          0.56                           0.0   \n",
              "5                          0.59                           0.0   \n",
              "6                          0.64                           0.0   \n",
              "7                          0.75                           0.0   \n",
              "8                          0.54                           0.0   \n",
              "9                          0.78                           0.0   \n",
              "\n",
              "   Other renewables including bioenergy (TWh)  \n",
              "0                                         0.0  \n",
              "1                                         0.0  \n",
              "2                                         0.0  \n",
              "3                                         0.0  \n",
              "4                                         0.0  \n",
              "5                                         0.0  \n",
              "6                                         0.0  \n",
              "7                                         0.0  \n",
              "8                                         0.0  \n",
              "9                                         0.0  "
            ],
            "text/html": [
              "\n",
              "  <div id=\"df-1e357032-06bd-47fd-9e9f-4e2e5be1b4d2\" class=\"colab-df-container\">\n",
              "    <div>\n",
              "<style scoped>\n",
              "    .dataframe tbody tr th:only-of-type {\n",
              "        vertical-align: middle;\n",
              "    }\n",
              "\n",
              "    .dataframe tbody tr th {\n",
              "        vertical-align: top;\n",
              "    }\n",
              "\n",
              "    .dataframe thead th {\n",
              "        text-align: right;\n",
              "    }\n",
              "</style>\n",
              "<table border=\"1\" class=\"dataframe\">\n",
              "  <thead>\n",
              "    <tr style=\"text-align: right;\">\n",
              "      <th></th>\n",
              "      <th>Entity</th>\n",
              "      <th>Code</th>\n",
              "      <th>Year</th>\n",
              "      <th>Electricity from wind (TWh)</th>\n",
              "      <th>Electricity from hydro (TWh)</th>\n",
              "      <th>Electricity from solar (TWh)</th>\n",
              "      <th>Other renewables including bioenergy (TWh)</th>\n",
              "    </tr>\n",
              "  </thead>\n",
              "  <tbody>\n",
              "    <tr>\n",
              "      <th>0</th>\n",
              "      <td>Afghanistan</td>\n",
              "      <td>AFG</td>\n",
              "      <td>2000</td>\n",
              "      <td>0.0</td>\n",
              "      <td>0.31</td>\n",
              "      <td>0.0</td>\n",
              "      <td>0.0</td>\n",
              "    </tr>\n",
              "    <tr>\n",
              "      <th>1</th>\n",
              "      <td>Afghanistan</td>\n",
              "      <td>AFG</td>\n",
              "      <td>2001</td>\n",
              "      <td>0.0</td>\n",
              "      <td>0.50</td>\n",
              "      <td>0.0</td>\n",
              "      <td>0.0</td>\n",
              "    </tr>\n",
              "    <tr>\n",
              "      <th>2</th>\n",
              "      <td>Afghanistan</td>\n",
              "      <td>AFG</td>\n",
              "      <td>2002</td>\n",
              "      <td>0.0</td>\n",
              "      <td>0.56</td>\n",
              "      <td>0.0</td>\n",
              "      <td>0.0</td>\n",
              "    </tr>\n",
              "    <tr>\n",
              "      <th>3</th>\n",
              "      <td>Afghanistan</td>\n",
              "      <td>AFG</td>\n",
              "      <td>2003</td>\n",
              "      <td>0.0</td>\n",
              "      <td>0.63</td>\n",
              "      <td>0.0</td>\n",
              "      <td>0.0</td>\n",
              "    </tr>\n",
              "    <tr>\n",
              "      <th>4</th>\n",
              "      <td>Afghanistan</td>\n",
              "      <td>AFG</td>\n",
              "      <td>2004</td>\n",
              "      <td>0.0</td>\n",
              "      <td>0.56</td>\n",
              "      <td>0.0</td>\n",
              "      <td>0.0</td>\n",
              "    </tr>\n",
              "    <tr>\n",
              "      <th>5</th>\n",
              "      <td>Afghanistan</td>\n",
              "      <td>AFG</td>\n",
              "      <td>2005</td>\n",
              "      <td>0.0</td>\n",
              "      <td>0.59</td>\n",
              "      <td>0.0</td>\n",
              "      <td>0.0</td>\n",
              "    </tr>\n",
              "    <tr>\n",
              "      <th>6</th>\n",
              "      <td>Afghanistan</td>\n",
              "      <td>AFG</td>\n",
              "      <td>2006</td>\n",
              "      <td>0.0</td>\n",
              "      <td>0.64</td>\n",
              "      <td>0.0</td>\n",
              "      <td>0.0</td>\n",
              "    </tr>\n",
              "    <tr>\n",
              "      <th>7</th>\n",
              "      <td>Afghanistan</td>\n",
              "      <td>AFG</td>\n",
              "      <td>2007</td>\n",
              "      <td>0.0</td>\n",
              "      <td>0.75</td>\n",
              "      <td>0.0</td>\n",
              "      <td>0.0</td>\n",
              "    </tr>\n",
              "    <tr>\n",
              "      <th>8</th>\n",
              "      <td>Afghanistan</td>\n",
              "      <td>AFG</td>\n",
              "      <td>2008</td>\n",
              "      <td>0.0</td>\n",
              "      <td>0.54</td>\n",
              "      <td>0.0</td>\n",
              "      <td>0.0</td>\n",
              "    </tr>\n",
              "    <tr>\n",
              "      <th>9</th>\n",
              "      <td>Afghanistan</td>\n",
              "      <td>AFG</td>\n",
              "      <td>2009</td>\n",
              "      <td>0.0</td>\n",
              "      <td>0.78</td>\n",
              "      <td>0.0</td>\n",
              "      <td>0.0</td>\n",
              "    </tr>\n",
              "  </tbody>\n",
              "</table>\n",
              "</div>\n",
              "    <div class=\"colab-df-buttons\">\n",
              "\n",
              "  <div class=\"colab-df-container\">\n",
              "    <button class=\"colab-df-convert\" onclick=\"convertToInteractive('df-1e357032-06bd-47fd-9e9f-4e2e5be1b4d2')\"\n",
              "            title=\"Convert this dataframe to an interactive table.\"\n",
              "            style=\"display:none;\">\n",
              "\n",
              "  <svg xmlns=\"http://www.w3.org/2000/svg\" height=\"24px\" viewBox=\"0 -960 960 960\">\n",
              "    <path d=\"M120-120v-720h720v720H120Zm60-500h600v-160H180v160Zm220 220h160v-160H400v160Zm0 220h160v-160H400v160ZM180-400h160v-160H180v160Zm440 0h160v-160H620v160ZM180-180h160v-160H180v160Zm440 0h160v-160H620v160Z\"/>\n",
              "  </svg>\n",
              "    </button>\n",
              "\n",
              "  <style>\n",
              "    .colab-df-container {\n",
              "      display:flex;\n",
              "      gap: 12px;\n",
              "    }\n",
              "\n",
              "    .colab-df-convert {\n",
              "      background-color: #E8F0FE;\n",
              "      border: none;\n",
              "      border-radius: 50%;\n",
              "      cursor: pointer;\n",
              "      display: none;\n",
              "      fill: #1967D2;\n",
              "      height: 32px;\n",
              "      padding: 0 0 0 0;\n",
              "      width: 32px;\n",
              "    }\n",
              "\n",
              "    .colab-df-convert:hover {\n",
              "      background-color: #E2EBFA;\n",
              "      box-shadow: 0px 1px 2px rgba(60, 64, 67, 0.3), 0px 1px 3px 1px rgba(60, 64, 67, 0.15);\n",
              "      fill: #174EA6;\n",
              "    }\n",
              "\n",
              "    .colab-df-buttons div {\n",
              "      margin-bottom: 4px;\n",
              "    }\n",
              "\n",
              "    [theme=dark] .colab-df-convert {\n",
              "      background-color: #3B4455;\n",
              "      fill: #D2E3FC;\n",
              "    }\n",
              "\n",
              "    [theme=dark] .colab-df-convert:hover {\n",
              "      background-color: #434B5C;\n",
              "      box-shadow: 0px 1px 3px 1px rgba(0, 0, 0, 0.15);\n",
              "      filter: drop-shadow(0px 1px 2px rgba(0, 0, 0, 0.3));\n",
              "      fill: #FFFFFF;\n",
              "    }\n",
              "  </style>\n",
              "\n",
              "    <script>\n",
              "      const buttonEl =\n",
              "        document.querySelector('#df-1e357032-06bd-47fd-9e9f-4e2e5be1b4d2 button.colab-df-convert');\n",
              "      buttonEl.style.display =\n",
              "        google.colab.kernel.accessAllowed ? 'block' : 'none';\n",
              "\n",
              "      async function convertToInteractive(key) {\n",
              "        const element = document.querySelector('#df-1e357032-06bd-47fd-9e9f-4e2e5be1b4d2');\n",
              "        const dataTable =\n",
              "          await google.colab.kernel.invokeFunction('convertToInteractive',\n",
              "                                                    [key], {});\n",
              "        if (!dataTable) return;\n",
              "\n",
              "        const docLinkHtml = 'Like what you see? Visit the ' +\n",
              "          '<a target=\"_blank\" href=https://colab.research.google.com/notebooks/data_table.ipynb>data table notebook</a>'\n",
              "          + ' to learn more about interactive tables.';\n",
              "        element.innerHTML = '';\n",
              "        dataTable['output_type'] = 'display_data';\n",
              "        await google.colab.output.renderOutput(dataTable, element);\n",
              "        const docLink = document.createElement('div');\n",
              "        docLink.innerHTML = docLinkHtml;\n",
              "        element.appendChild(docLink);\n",
              "      }\n",
              "    </script>\n",
              "  </div>\n",
              "\n",
              "\n",
              "    <div id=\"df-04d946ec-c084-4b61-b1c2-3a27618a6478\">\n",
              "      <button class=\"colab-df-quickchart\" onclick=\"quickchart('df-04d946ec-c084-4b61-b1c2-3a27618a6478')\"\n",
              "                title=\"Suggest charts\"\n",
              "                style=\"display:none;\">\n",
              "\n",
              "<svg xmlns=\"http://www.w3.org/2000/svg\" height=\"24px\"viewBox=\"0 0 24 24\"\n",
              "     width=\"24px\">\n",
              "    <g>\n",
              "        <path d=\"M19 3H5c-1.1 0-2 .9-2 2v14c0 1.1.9 2 2 2h14c1.1 0 2-.9 2-2V5c0-1.1-.9-2-2-2zM9 17H7v-7h2v7zm4 0h-2V7h2v10zm4 0h-2v-4h2v4z\"/>\n",
              "    </g>\n",
              "</svg>\n",
              "      </button>\n",
              "\n",
              "<style>\n",
              "  .colab-df-quickchart {\n",
              "      --bg-color: #E8F0FE;\n",
              "      --fill-color: #1967D2;\n",
              "      --hover-bg-color: #E2EBFA;\n",
              "      --hover-fill-color: #174EA6;\n",
              "      --disabled-fill-color: #AAA;\n",
              "      --disabled-bg-color: #DDD;\n",
              "  }\n",
              "\n",
              "  [theme=dark] .colab-df-quickchart {\n",
              "      --bg-color: #3B4455;\n",
              "      --fill-color: #D2E3FC;\n",
              "      --hover-bg-color: #434B5C;\n",
              "      --hover-fill-color: #FFFFFF;\n",
              "      --disabled-bg-color: #3B4455;\n",
              "      --disabled-fill-color: #666;\n",
              "  }\n",
              "\n",
              "  .colab-df-quickchart {\n",
              "    background-color: var(--bg-color);\n",
              "    border: none;\n",
              "    border-radius: 50%;\n",
              "    cursor: pointer;\n",
              "    display: none;\n",
              "    fill: var(--fill-color);\n",
              "    height: 32px;\n",
              "    padding: 0;\n",
              "    width: 32px;\n",
              "  }\n",
              "\n",
              "  .colab-df-quickchart:hover {\n",
              "    background-color: var(--hover-bg-color);\n",
              "    box-shadow: 0 1px 2px rgba(60, 64, 67, 0.3), 0 1px 3px 1px rgba(60, 64, 67, 0.15);\n",
              "    fill: var(--button-hover-fill-color);\n",
              "  }\n",
              "\n",
              "  .colab-df-quickchart-complete:disabled,\n",
              "  .colab-df-quickchart-complete:disabled:hover {\n",
              "    background-color: var(--disabled-bg-color);\n",
              "    fill: var(--disabled-fill-color);\n",
              "    box-shadow: none;\n",
              "  }\n",
              "\n",
              "  .colab-df-spinner {\n",
              "    border: 2px solid var(--fill-color);\n",
              "    border-color: transparent;\n",
              "    border-bottom-color: var(--fill-color);\n",
              "    animation:\n",
              "      spin 1s steps(1) infinite;\n",
              "  }\n",
              "\n",
              "  @keyframes spin {\n",
              "    0% {\n",
              "      border-color: transparent;\n",
              "      border-bottom-color: var(--fill-color);\n",
              "      border-left-color: var(--fill-color);\n",
              "    }\n",
              "    20% {\n",
              "      border-color: transparent;\n",
              "      border-left-color: var(--fill-color);\n",
              "      border-top-color: var(--fill-color);\n",
              "    }\n",
              "    30% {\n",
              "      border-color: transparent;\n",
              "      border-left-color: var(--fill-color);\n",
              "      border-top-color: var(--fill-color);\n",
              "      border-right-color: var(--fill-color);\n",
              "    }\n",
              "    40% {\n",
              "      border-color: transparent;\n",
              "      border-right-color: var(--fill-color);\n",
              "      border-top-color: var(--fill-color);\n",
              "    }\n",
              "    60% {\n",
              "      border-color: transparent;\n",
              "      border-right-color: var(--fill-color);\n",
              "    }\n",
              "    80% {\n",
              "      border-color: transparent;\n",
              "      border-right-color: var(--fill-color);\n",
              "      border-bottom-color: var(--fill-color);\n",
              "    }\n",
              "    90% {\n",
              "      border-color: transparent;\n",
              "      border-bottom-color: var(--fill-color);\n",
              "    }\n",
              "  }\n",
              "</style>\n",
              "\n",
              "      <script>\n",
              "        async function quickchart(key) {\n",
              "          const quickchartButtonEl =\n",
              "            document.querySelector('#' + key + ' button');\n",
              "          quickchartButtonEl.disabled = true;  // To prevent multiple clicks.\n",
              "          quickchartButtonEl.classList.add('colab-df-spinner');\n",
              "          try {\n",
              "            const charts = await google.colab.kernel.invokeFunction(\n",
              "                'suggestCharts', [key], {});\n",
              "          } catch (error) {\n",
              "            console.error('Error during call to suggestCharts:', error);\n",
              "          }\n",
              "          quickchartButtonEl.classList.remove('colab-df-spinner');\n",
              "          quickchartButtonEl.classList.add('colab-df-quickchart-complete');\n",
              "        }\n",
              "        (() => {\n",
              "          let quickchartButtonEl =\n",
              "            document.querySelector('#df-04d946ec-c084-4b61-b1c2-3a27618a6478 button');\n",
              "          quickchartButtonEl.style.display =\n",
              "            google.colab.kernel.accessAllowed ? 'block' : 'none';\n",
              "        })();\n",
              "      </script>\n",
              "    </div>\n",
              "\n",
              "    </div>\n",
              "  </div>\n"
            ],
            "application/vnd.google.colaboratory.intrinsic+json": {
              "type": "dataframe",
              "variable_name": "prod_ren",
              "summary": "{\n  \"name\": \"prod_ren\",\n  \"rows\": 8851,\n  \"fields\": [\n    {\n      \"column\": \"Entity\",\n      \"properties\": {\n        \"dtype\": \"category\",\n        \"num_unique_values\": 251,\n        \"samples\": [\n          \"Nauru\",\n          \"American Samoa\",\n          \"Non-OECD (BP)\"\n        ],\n        \"semantic_type\": \"\",\n        \"description\": \"\"\n      }\n    },\n    {\n      \"column\": \"Code\",\n      \"properties\": {\n        \"dtype\": \"category\",\n        \"num_unique_values\": 217,\n        \"samples\": [\n          \"USA\",\n          \"YEM\",\n          \"NIC\"\n        ],\n        \"semantic_type\": \"\",\n        \"description\": \"\"\n      }\n    },\n    {\n      \"column\": \"Year\",\n      \"properties\": {\n        \"dtype\": \"number\",\n        \"std\": 15,\n        \"min\": 1965,\n        \"max\": 2022,\n        \"num_unique_values\": 58,\n        \"samples\": [\n          2000,\n          2005,\n          1977\n        ],\n        \"semantic_type\": \"\",\n        \"description\": \"\"\n      }\n    },\n    {\n      \"column\": \"Electricity from wind (TWh)\",\n      \"properties\": {\n        \"dtype\": \"number\",\n        \"std\": 86.38816116374329,\n        \"min\": 0.0,\n        \"max\": 1848.26,\n        \"num_unique_values\": 1482,\n        \"samples\": [\n          74.9,\n          13.9,\n          0.006820202\n        ],\n        \"semantic_type\": \"\",\n        \"description\": \"\"\n      }\n    },\n    {\n      \"column\": \"Electricity from hydro (TWh)\",\n      \"properties\": {\n        \"dtype\": \"number\",\n        \"std\": 360.2304800092523,\n        \"min\": 0.0,\n        \"max\": 4340.61,\n        \"num_unique_values\": 4810,\n        \"samples\": [\n          9.953,\n          13.13,\n          1.65\n        ],\n        \"semantic_type\": \"\",\n        \"description\": \"\"\n      }\n    },\n    {\n      \"column\": \"Electricity from solar (TWh)\",\n      \"properties\": {\n        \"dtype\": \"number\",\n        \"std\": 40.098861724709764,\n        \"min\": 0.0,\n        \"max\": 1040.5,\n        \"num_unique_values\": 1048,\n        \"samples\": [\n          23.369999,\n          0.015,\n          15.35\n        ],\n        \"semantic_type\": \"\",\n        \"description\": \"\"\n      }\n    },\n    {\n      \"column\": \"Other renewables including bioenergy (TWh)\",\n      \"properties\": {\n        \"dtype\": \"number\",\n        \"std\": 48.351199604112,\n        \"min\": 0.0,\n        \"max\": 761.93005,\n        \"num_unique_values\": 2656,\n        \"samples\": [\n          0.39,\n          1.5,\n          0.015\n        ],\n        \"semantic_type\": \"\",\n        \"description\": \"\"\n      }\n    }\n  ]\n}"
            }
          },
          "metadata": {},
          "execution_count": 6
        }
      ]
    },
    {
      "cell_type": "code",
      "source": [
        "prod_ren.columns"
      ],
      "metadata": {
        "colab": {
          "base_uri": "https://localhost:8080/"
        },
        "id": "8-9jW2dhAV6k",
        "outputId": "72edeb96-73a7-4c29-e86d-a5bd44aaa2cb"
      },
      "execution_count": 7,
      "outputs": [
        {
          "output_type": "execute_result",
          "data": {
            "text/plain": [
              "Index(['Entity', 'Code', 'Year', 'Electricity from wind (TWh)',\n",
              "       'Electricity from hydro (TWh)', 'Electricity from solar (TWh)',\n",
              "       'Other renewables including bioenergy (TWh)'],\n",
              "      dtype='object')"
            ]
          },
          "metadata": {},
          "execution_count": 7
        }
      ]
    },
    {
      "cell_type": "code",
      "source": [
        "prod_ren.drop(['Code'], axis=1, inplace=True) #Eliminamos la columna de codigo ya que no se encuentra relevante"
      ],
      "metadata": {
        "id": "59dFtvZmNcFC"
      },
      "execution_count": null,
      "outputs": []
    },
    {
      "cell_type": "code",
      "source": [
        "prod_ren.head() #Comprobamos"
      ],
      "metadata": {
        "colab": {
          "base_uri": "https://localhost:8080/",
          "height": 206
        },
        "id": "3L_LU71GOe-2",
        "outputId": "214d9189-a28f-4cdb-ea5c-864bf4888330"
      },
      "execution_count": null,
      "outputs": [
        {
          "output_type": "execute_result",
          "data": {
            "text/plain": [
              "        Entity  Year  Electricity from wind (TWh)  \\\n",
              "0  Afghanistan  2000                          0.0   \n",
              "1  Afghanistan  2001                          0.0   \n",
              "2  Afghanistan  2002                          0.0   \n",
              "3  Afghanistan  2003                          0.0   \n",
              "4  Afghanistan  2004                          0.0   \n",
              "\n",
              "   Electricity from hydro (TWh)  Electricity from solar (TWh)  \\\n",
              "0                          0.31                           0.0   \n",
              "1                          0.50                           0.0   \n",
              "2                          0.56                           0.0   \n",
              "3                          0.63                           0.0   \n",
              "4                          0.56                           0.0   \n",
              "\n",
              "   Other renewables including bioenergy (TWh)  \n",
              "0                                         0.0  \n",
              "1                                         0.0  \n",
              "2                                         0.0  \n",
              "3                                         0.0  \n",
              "4                                         0.0  "
            ],
            "text/html": [
              "\n",
              "  <div id=\"df-b8686655-d0c1-4110-80e6-198286b5bb74\" class=\"colab-df-container\">\n",
              "    <div>\n",
              "<style scoped>\n",
              "    .dataframe tbody tr th:only-of-type {\n",
              "        vertical-align: middle;\n",
              "    }\n",
              "\n",
              "    .dataframe tbody tr th {\n",
              "        vertical-align: top;\n",
              "    }\n",
              "\n",
              "    .dataframe thead th {\n",
              "        text-align: right;\n",
              "    }\n",
              "</style>\n",
              "<table border=\"1\" class=\"dataframe\">\n",
              "  <thead>\n",
              "    <tr style=\"text-align: right;\">\n",
              "      <th></th>\n",
              "      <th>Entity</th>\n",
              "      <th>Year</th>\n",
              "      <th>Electricity from wind (TWh)</th>\n",
              "      <th>Electricity from hydro (TWh)</th>\n",
              "      <th>Electricity from solar (TWh)</th>\n",
              "      <th>Other renewables including bioenergy (TWh)</th>\n",
              "    </tr>\n",
              "  </thead>\n",
              "  <tbody>\n",
              "    <tr>\n",
              "      <th>0</th>\n",
              "      <td>Afghanistan</td>\n",
              "      <td>2000</td>\n",
              "      <td>0.0</td>\n",
              "      <td>0.31</td>\n",
              "      <td>0.0</td>\n",
              "      <td>0.0</td>\n",
              "    </tr>\n",
              "    <tr>\n",
              "      <th>1</th>\n",
              "      <td>Afghanistan</td>\n",
              "      <td>2001</td>\n",
              "      <td>0.0</td>\n",
              "      <td>0.50</td>\n",
              "      <td>0.0</td>\n",
              "      <td>0.0</td>\n",
              "    </tr>\n",
              "    <tr>\n",
              "      <th>2</th>\n",
              "      <td>Afghanistan</td>\n",
              "      <td>2002</td>\n",
              "      <td>0.0</td>\n",
              "      <td>0.56</td>\n",
              "      <td>0.0</td>\n",
              "      <td>0.0</td>\n",
              "    </tr>\n",
              "    <tr>\n",
              "      <th>3</th>\n",
              "      <td>Afghanistan</td>\n",
              "      <td>2003</td>\n",
              "      <td>0.0</td>\n",
              "      <td>0.63</td>\n",
              "      <td>0.0</td>\n",
              "      <td>0.0</td>\n",
              "    </tr>\n",
              "    <tr>\n",
              "      <th>4</th>\n",
              "      <td>Afghanistan</td>\n",
              "      <td>2004</td>\n",
              "      <td>0.0</td>\n",
              "      <td>0.56</td>\n",
              "      <td>0.0</td>\n",
              "      <td>0.0</td>\n",
              "    </tr>\n",
              "  </tbody>\n",
              "</table>\n",
              "</div>\n",
              "    <div class=\"colab-df-buttons\">\n",
              "\n",
              "  <div class=\"colab-df-container\">\n",
              "    <button class=\"colab-df-convert\" onclick=\"convertToInteractive('df-b8686655-d0c1-4110-80e6-198286b5bb74')\"\n",
              "            title=\"Convert this dataframe to an interactive table.\"\n",
              "            style=\"display:none;\">\n",
              "\n",
              "  <svg xmlns=\"http://www.w3.org/2000/svg\" height=\"24px\" viewBox=\"0 -960 960 960\">\n",
              "    <path d=\"M120-120v-720h720v720H120Zm60-500h600v-160H180v160Zm220 220h160v-160H400v160Zm0 220h160v-160H400v160ZM180-400h160v-160H180v160Zm440 0h160v-160H620v160ZM180-180h160v-160H180v160Zm440 0h160v-160H620v160Z\"/>\n",
              "  </svg>\n",
              "    </button>\n",
              "\n",
              "  <style>\n",
              "    .colab-df-container {\n",
              "      display:flex;\n",
              "      gap: 12px;\n",
              "    }\n",
              "\n",
              "    .colab-df-convert {\n",
              "      background-color: #E8F0FE;\n",
              "      border: none;\n",
              "      border-radius: 50%;\n",
              "      cursor: pointer;\n",
              "      display: none;\n",
              "      fill: #1967D2;\n",
              "      height: 32px;\n",
              "      padding: 0 0 0 0;\n",
              "      width: 32px;\n",
              "    }\n",
              "\n",
              "    .colab-df-convert:hover {\n",
              "      background-color: #E2EBFA;\n",
              "      box-shadow: 0px 1px 2px rgba(60, 64, 67, 0.3), 0px 1px 3px 1px rgba(60, 64, 67, 0.15);\n",
              "      fill: #174EA6;\n",
              "    }\n",
              "\n",
              "    .colab-df-buttons div {\n",
              "      margin-bottom: 4px;\n",
              "    }\n",
              "\n",
              "    [theme=dark] .colab-df-convert {\n",
              "      background-color: #3B4455;\n",
              "      fill: #D2E3FC;\n",
              "    }\n",
              "\n",
              "    [theme=dark] .colab-df-convert:hover {\n",
              "      background-color: #434B5C;\n",
              "      box-shadow: 0px 1px 3px 1px rgba(0, 0, 0, 0.15);\n",
              "      filter: drop-shadow(0px 1px 2px rgba(0, 0, 0, 0.3));\n",
              "      fill: #FFFFFF;\n",
              "    }\n",
              "  </style>\n",
              "\n",
              "    <script>\n",
              "      const buttonEl =\n",
              "        document.querySelector('#df-b8686655-d0c1-4110-80e6-198286b5bb74 button.colab-df-convert');\n",
              "      buttonEl.style.display =\n",
              "        google.colab.kernel.accessAllowed ? 'block' : 'none';\n",
              "\n",
              "      async function convertToInteractive(key) {\n",
              "        const element = document.querySelector('#df-b8686655-d0c1-4110-80e6-198286b5bb74');\n",
              "        const dataTable =\n",
              "          await google.colab.kernel.invokeFunction('convertToInteractive',\n",
              "                                                    [key], {});\n",
              "        if (!dataTable) return;\n",
              "\n",
              "        const docLinkHtml = 'Like what you see? Visit the ' +\n",
              "          '<a target=\"_blank\" href=https://colab.research.google.com/notebooks/data_table.ipynb>data table notebook</a>'\n",
              "          + ' to learn more about interactive tables.';\n",
              "        element.innerHTML = '';\n",
              "        dataTable['output_type'] = 'display_data';\n",
              "        await google.colab.output.renderOutput(dataTable, element);\n",
              "        const docLink = document.createElement('div');\n",
              "        docLink.innerHTML = docLinkHtml;\n",
              "        element.appendChild(docLink);\n",
              "      }\n",
              "    </script>\n",
              "  </div>\n",
              "\n",
              "\n",
              "    <div id=\"df-b4160dc1-3650-467e-b53b-d4a795f77497\">\n",
              "      <button class=\"colab-df-quickchart\" onclick=\"quickchart('df-b4160dc1-3650-467e-b53b-d4a795f77497')\"\n",
              "                title=\"Suggest charts\"\n",
              "                style=\"display:none;\">\n",
              "\n",
              "<svg xmlns=\"http://www.w3.org/2000/svg\" height=\"24px\"viewBox=\"0 0 24 24\"\n",
              "     width=\"24px\">\n",
              "    <g>\n",
              "        <path d=\"M19 3H5c-1.1 0-2 .9-2 2v14c0 1.1.9 2 2 2h14c1.1 0 2-.9 2-2V5c0-1.1-.9-2-2-2zM9 17H7v-7h2v7zm4 0h-2V7h2v10zm4 0h-2v-4h2v4z\"/>\n",
              "    </g>\n",
              "</svg>\n",
              "      </button>\n",
              "\n",
              "<style>\n",
              "  .colab-df-quickchart {\n",
              "      --bg-color: #E8F0FE;\n",
              "      --fill-color: #1967D2;\n",
              "      --hover-bg-color: #E2EBFA;\n",
              "      --hover-fill-color: #174EA6;\n",
              "      --disabled-fill-color: #AAA;\n",
              "      --disabled-bg-color: #DDD;\n",
              "  }\n",
              "\n",
              "  [theme=dark] .colab-df-quickchart {\n",
              "      --bg-color: #3B4455;\n",
              "      --fill-color: #D2E3FC;\n",
              "      --hover-bg-color: #434B5C;\n",
              "      --hover-fill-color: #FFFFFF;\n",
              "      --disabled-bg-color: #3B4455;\n",
              "      --disabled-fill-color: #666;\n",
              "  }\n",
              "\n",
              "  .colab-df-quickchart {\n",
              "    background-color: var(--bg-color);\n",
              "    border: none;\n",
              "    border-radius: 50%;\n",
              "    cursor: pointer;\n",
              "    display: none;\n",
              "    fill: var(--fill-color);\n",
              "    height: 32px;\n",
              "    padding: 0;\n",
              "    width: 32px;\n",
              "  }\n",
              "\n",
              "  .colab-df-quickchart:hover {\n",
              "    background-color: var(--hover-bg-color);\n",
              "    box-shadow: 0 1px 2px rgba(60, 64, 67, 0.3), 0 1px 3px 1px rgba(60, 64, 67, 0.15);\n",
              "    fill: var(--button-hover-fill-color);\n",
              "  }\n",
              "\n",
              "  .colab-df-quickchart-complete:disabled,\n",
              "  .colab-df-quickchart-complete:disabled:hover {\n",
              "    background-color: var(--disabled-bg-color);\n",
              "    fill: var(--disabled-fill-color);\n",
              "    box-shadow: none;\n",
              "  }\n",
              "\n",
              "  .colab-df-spinner {\n",
              "    border: 2px solid var(--fill-color);\n",
              "    border-color: transparent;\n",
              "    border-bottom-color: var(--fill-color);\n",
              "    animation:\n",
              "      spin 1s steps(1) infinite;\n",
              "  }\n",
              "\n",
              "  @keyframes spin {\n",
              "    0% {\n",
              "      border-color: transparent;\n",
              "      border-bottom-color: var(--fill-color);\n",
              "      border-left-color: var(--fill-color);\n",
              "    }\n",
              "    20% {\n",
              "      border-color: transparent;\n",
              "      border-left-color: var(--fill-color);\n",
              "      border-top-color: var(--fill-color);\n",
              "    }\n",
              "    30% {\n",
              "      border-color: transparent;\n",
              "      border-left-color: var(--fill-color);\n",
              "      border-top-color: var(--fill-color);\n",
              "      border-right-color: var(--fill-color);\n",
              "    }\n",
              "    40% {\n",
              "      border-color: transparent;\n",
              "      border-right-color: var(--fill-color);\n",
              "      border-top-color: var(--fill-color);\n",
              "    }\n",
              "    60% {\n",
              "      border-color: transparent;\n",
              "      border-right-color: var(--fill-color);\n",
              "    }\n",
              "    80% {\n",
              "      border-color: transparent;\n",
              "      border-right-color: var(--fill-color);\n",
              "      border-bottom-color: var(--fill-color);\n",
              "    }\n",
              "    90% {\n",
              "      border-color: transparent;\n",
              "      border-bottom-color: var(--fill-color);\n",
              "    }\n",
              "  }\n",
              "</style>\n",
              "\n",
              "      <script>\n",
              "        async function quickchart(key) {\n",
              "          const quickchartButtonEl =\n",
              "            document.querySelector('#' + key + ' button');\n",
              "          quickchartButtonEl.disabled = true;  // To prevent multiple clicks.\n",
              "          quickchartButtonEl.classList.add('colab-df-spinner');\n",
              "          try {\n",
              "            const charts = await google.colab.kernel.invokeFunction(\n",
              "                'suggestCharts', [key], {});\n",
              "          } catch (error) {\n",
              "            console.error('Error during call to suggestCharts:', error);\n",
              "          }\n",
              "          quickchartButtonEl.classList.remove('colab-df-spinner');\n",
              "          quickchartButtonEl.classList.add('colab-df-quickchart-complete');\n",
              "        }\n",
              "        (() => {\n",
              "          let quickchartButtonEl =\n",
              "            document.querySelector('#df-b4160dc1-3650-467e-b53b-d4a795f77497 button');\n",
              "          quickchartButtonEl.style.display =\n",
              "            google.colab.kernel.accessAllowed ? 'block' : 'none';\n",
              "        })();\n",
              "      </script>\n",
              "    </div>\n",
              "\n",
              "    </div>\n",
              "  </div>\n"
            ],
            "application/vnd.google.colaboratory.intrinsic+json": {
              "type": "dataframe",
              "variable_name": "prod_ren",
              "summary": "{\n  \"name\": \"prod_ren\",\n  \"rows\": 8851,\n  \"fields\": [\n    {\n      \"column\": \"Entity\",\n      \"properties\": {\n        \"dtype\": \"category\",\n        \"num_unique_values\": 251,\n        \"samples\": [\n          \"Nauru\",\n          \"American Samoa\",\n          \"Non-OECD (BP)\"\n        ],\n        \"semantic_type\": \"\",\n        \"description\": \"\"\n      }\n    },\n    {\n      \"column\": \"Year\",\n      \"properties\": {\n        \"dtype\": \"number\",\n        \"std\": 15,\n        \"min\": 1965,\n        \"max\": 2022,\n        \"num_unique_values\": 58,\n        \"samples\": [\n          2000,\n          2005,\n          1977\n        ],\n        \"semantic_type\": \"\",\n        \"description\": \"\"\n      }\n    },\n    {\n      \"column\": \"Electricity from wind (TWh)\",\n      \"properties\": {\n        \"dtype\": \"number\",\n        \"std\": 86.38816116374329,\n        \"min\": 0.0,\n        \"max\": 1848.26,\n        \"num_unique_values\": 1482,\n        \"samples\": [\n          74.9,\n          13.9,\n          0.006820202\n        ],\n        \"semantic_type\": \"\",\n        \"description\": \"\"\n      }\n    },\n    {\n      \"column\": \"Electricity from hydro (TWh)\",\n      \"properties\": {\n        \"dtype\": \"number\",\n        \"std\": 360.2304800092523,\n        \"min\": 0.0,\n        \"max\": 4340.61,\n        \"num_unique_values\": 4810,\n        \"samples\": [\n          9.953,\n          13.13,\n          1.65\n        ],\n        \"semantic_type\": \"\",\n        \"description\": \"\"\n      }\n    },\n    {\n      \"column\": \"Electricity from solar (TWh)\",\n      \"properties\": {\n        \"dtype\": \"number\",\n        \"std\": 40.098861724709764,\n        \"min\": 0.0,\n        \"max\": 1040.5,\n        \"num_unique_values\": 1048,\n        \"samples\": [\n          23.369999,\n          0.015,\n          15.35\n        ],\n        \"semantic_type\": \"\",\n        \"description\": \"\"\n      }\n    },\n    {\n      \"column\": \"Other renewables including bioenergy (TWh)\",\n      \"properties\": {\n        \"dtype\": \"number\",\n        \"std\": 48.351199604112,\n        \"min\": 0.0,\n        \"max\": 761.93005,\n        \"num_unique_values\": 2656,\n        \"samples\": [\n          0.39,\n          1.5,\n          0.015\n        ],\n        \"semantic_type\": \"\",\n        \"description\": \"\"\n      }\n    }\n  ]\n}"
            }
          },
          "metadata": {},
          "execution_count": 9
        }
      ]
    },
    {
      "cell_type": "code",
      "source": [
        "prod_ren.rename(columns = {\"Entity\":\"Country\", \"Electricity from wind (TWh)\":\"Wind (TWh)\",\"Electricity from hydro (TWh)\":\"Hydro (TWh)\", \"Electricity from solar (TWh)\":\"Solar (TWh)\", \"Other renewables including bioenergy (TWh)\":\"Others (TWh)\"}, inplace=True)"
      ],
      "metadata": {
        "id": "BeMN3dMLNQDq"
      },
      "execution_count": null,
      "outputs": []
    },
    {
      "cell_type": "code",
      "source": [
        "prod_ren.columns"
      ],
      "metadata": {
        "colab": {
          "base_uri": "https://localhost:8080/"
        },
        "id": "hRhOjAlbPQn1",
        "outputId": "ee134cd3-c5f1-4158-ae2a-40ffc4df2b99"
      },
      "execution_count": null,
      "outputs": [
        {
          "output_type": "execute_result",
          "data": {
            "text/plain": [
              "Index(['Country', 'Year', 'Wind (TWh)', 'Hydro (TWh)', 'Solar (TWh)',\n",
              "       'Others (TWh)'],\n",
              "      dtype='object')"
            ]
          },
          "metadata": {},
          "execution_count": 11
        }
      ]
    },
    {
      "cell_type": "markdown",
      "source": [
        "Chequeamos valores nulos o faltantes:"
      ],
      "metadata": {
        "id": "aBgub7o4_L88"
      }
    },
    {
      "cell_type": "code",
      "source": [
        "prod_ren.isna().sum()"
      ],
      "metadata": {
        "colab": {
          "base_uri": "https://localhost:8080/",
          "height": 272
        },
        "id": "d5eJbjgwPU7W",
        "outputId": "c3d1d05f-887b-48f1-b5cf-214189f61545"
      },
      "execution_count": null,
      "outputs": [
        {
          "output_type": "execute_result",
          "data": {
            "text/plain": [
              "Country           0\n",
              "Year              0\n",
              "Wind (TWh)      175\n",
              "Hydro (TWh)      11\n",
              "Solar (TWh)     168\n",
              "Others (TWh)    220\n",
              "dtype: int64"
            ],
            "text/html": [
              "<div>\n",
              "<style scoped>\n",
              "    .dataframe tbody tr th:only-of-type {\n",
              "        vertical-align: middle;\n",
              "    }\n",
              "\n",
              "    .dataframe tbody tr th {\n",
              "        vertical-align: top;\n",
              "    }\n",
              "\n",
              "    .dataframe thead th {\n",
              "        text-align: right;\n",
              "    }\n",
              "</style>\n",
              "<table border=\"1\" class=\"dataframe\">\n",
              "  <thead>\n",
              "    <tr style=\"text-align: right;\">\n",
              "      <th></th>\n",
              "      <th>0</th>\n",
              "    </tr>\n",
              "  </thead>\n",
              "  <tbody>\n",
              "    <tr>\n",
              "      <th>Country</th>\n",
              "      <td>0</td>\n",
              "    </tr>\n",
              "    <tr>\n",
              "      <th>Year</th>\n",
              "      <td>0</td>\n",
              "    </tr>\n",
              "    <tr>\n",
              "      <th>Wind (TWh)</th>\n",
              "      <td>175</td>\n",
              "    </tr>\n",
              "    <tr>\n",
              "      <th>Hydro (TWh)</th>\n",
              "      <td>11</td>\n",
              "    </tr>\n",
              "    <tr>\n",
              "      <th>Solar (TWh)</th>\n",
              "      <td>168</td>\n",
              "    </tr>\n",
              "    <tr>\n",
              "      <th>Others (TWh)</th>\n",
              "      <td>220</td>\n",
              "    </tr>\n",
              "  </tbody>\n",
              "</table>\n",
              "</div><br><label><b>dtype:</b> int64</label>"
            ]
          },
          "metadata": {},
          "execution_count": 12
        }
      ]
    },
    {
      "cell_type": "markdown",
      "source": [
        "En este caso lo datos que se encuentran en cero no resultan una preocupación ya que la produccion de algun tipo de energia puede ser cero. Durante muchos años la producción de energia renovable no fue una opción y muchos paises no cuentan con las condiciones favorables para tener una de las diferentes clases de energía.\n"
      ],
      "metadata": {
        "id": "T_LhpDR0osbp"
      }
    },
    {
      "cell_type": "code",
      "source": [
        "#La base de datos tiene una mezcla entre continentes, paises y de mas, asi que esta seccion es para crear diferentes\n",
        "# bases de datos limpios\n",
        "Contin = ['Africa','Asia','Europe', 'North America', 'Oceania', 'South America','World']\n",
        "Empre = ['CIS (BP)','Africa (BP)','Africa (Ember)','Asia (Ember)','Europe (BP)','Europe (Ember)','European Union (27) (Ember)','North America (BP)','North America (Ember)','Oceania (Ember)','Latin America and Caribbean (Ember)']\n",
        "Ggroup = ['G20 (Ember)', 'G7 (Ember)', 'Non-OECD (BP)','OECD (BP)','OECD (Ember)','USSR']\n",
        "Incom_cont = ['High-income countries', 'Low-income countries','Lower-middle-income countries','Upper-middle-income countries']\n",
        "Region = ['Central America (BP)','Asia Pacific (BP)','Eastern Africa (BP)','European Union (27)','South and Central America (BP)','Middle Africa (BP)','Middle East (BP)','North America','Western Africa (BP)']"
      ],
      "metadata": {
        "id": "8XJ99RNJ_zQZ"
      },
      "execution_count": null,
      "outputs": []
    },
    {
      "cell_type": "code",
      "source": [
        "cont_prod = prod_ren[prod_ren['Country'].isin(Contin)].reset_index() #Creamos un dataframe para los continentes\n",
        "incom_prod = prod_ren[prod_ren['Country'].isin(Incom_cont)].reset_index() #Dataframe para los rangos de paises\n",
        "region_prod = prod_ren[prod_ren['Country'].isin(Region)].reset_index() #Dataframe para las regiones en el mundo\n",
        "cont_prod.drop(['index'], axis=1, inplace=True)\n",
        "incom_prod.drop(['index'], axis=1, inplace=True)\n",
        "region_prod.drop(['index'], axis=1, inplace=True)\n",
        "region_prod['Country'] = region_prod['Country'].str.replace(r'\\s+\\(.*?\\)$', '', regex=True) #Elimina los nombres incomodos al final de la region"
      ],
      "metadata": {
        "id": "5HCK2YkCJULa"
      },
      "execution_count": null,
      "outputs": []
    },
    {
      "cell_type": "code",
      "source": [
        "categorias = Contin + Empre + Ggroup + Incom_cont + Region #Sumamor todas aquellas filas que no queremos en el dataframe de paises\n",
        "prod_ren_fil = prod_ren[~prod_ren['Country'].isin(categorias)].reset_index() #Le quitamos al dataframe original las otras categorias\n",
        "prod_ren_fil.drop(['index'], axis=1, inplace=True)\n",
        "print(prod_ren_fil)"
      ],
      "metadata": {
        "id": "1rkfDdMxKiq8",
        "colab": {
          "base_uri": "https://localhost:8080/"
        },
        "outputId": "62972e10-3fa8-430c-a896-6ebd26fd8809"
      },
      "execution_count": null,
      "outputs": [
        {
          "output_type": "stream",
          "name": "stdout",
          "text": [
            "          Country  Year  Wind (TWh)  Hydro (TWh)  Solar (TWh)  Others (TWh)\n",
            "0     Afghanistan  2000         0.0         0.31         0.00          0.00\n",
            "1     Afghanistan  2001         0.0         0.50         0.00          0.00\n",
            "2     Afghanistan  2002         0.0         0.56         0.00          0.00\n",
            "3     Afghanistan  2003         0.0         0.63         0.00          0.00\n",
            "4     Afghanistan  2004         0.0         0.56         0.00          0.00\n",
            "...           ...   ...         ...          ...          ...           ...\n",
            "7214     Zimbabwe  2017         0.0         3.97         0.01          0.32\n",
            "7215     Zimbabwe  2018         0.0         5.05         0.02          0.39\n",
            "7216     Zimbabwe  2019         0.0         4.17         0.03          0.38\n",
            "7217     Zimbabwe  2020         0.0         3.81         0.03          0.35\n",
            "7218     Zimbabwe  2021         0.0         4.00         0.04          0.38\n",
            "\n",
            "[7219 rows x 6 columns]\n"
          ]
        }
      ]
    },
    {
      "cell_type": "markdown",
      "source": [
        "Describo los datos del dataframe principal"
      ],
      "metadata": {
        "id": "s2dFfSIg-uqI"
      }
    },
    {
      "cell_type": "code",
      "source": [
        "prod_ren_fil.describe()"
      ],
      "metadata": {
        "colab": {
          "base_uri": "https://localhost:8080/",
          "height": 141
        },
        "id": "Z0ia25L2-t6F",
        "outputId": "2fbea485-587b-41d1-b806-305433586429"
      },
      "execution_count": 1,
      "outputs": [
        {
          "output_type": "error",
          "ename": "NameError",
          "evalue": "name 'prod_ren_fil' is not defined",
          "traceback": [
            "\u001b[0;31m---------------------------------------------------------------------------\u001b[0m",
            "\u001b[0;31mNameError\u001b[0m                                 Traceback (most recent call last)",
            "\u001b[0;32m<ipython-input-1-b661385d2f57>\u001b[0m in \u001b[0;36m<cell line: 0>\u001b[0;34m()\u001b[0m\n\u001b[0;32m----> 1\u001b[0;31m \u001b[0mprod_ren_fil\u001b[0m\u001b[0;34m.\u001b[0m\u001b[0mdescribe\u001b[0m\u001b[0;34m(\u001b[0m\u001b[0;34m)\u001b[0m\u001b[0;34m\u001b[0m\u001b[0;34m\u001b[0m\u001b[0m\n\u001b[0m",
            "\u001b[0;31mNameError\u001b[0m: name 'prod_ren_fil' is not defined"
          ]
        }
      ]
    },
    {
      "cell_type": "markdown",
      "source": [
        "## Deteccion de outliers\n",
        "\n",
        "El z-score mide cuántas desviaciones estándar se aleja un valor de la media."
      ],
      "metadata": {
        "id": "pS3Hhot0xJLw"
      }
    },
    {
      "cell_type": "code",
      "source": [
        "# Lista de columnas numéricas de las que quiero tomar datos para detectar outliers\n",
        "cols = ['Wind (TWh)', 'Hydro (TWh)', 'Solar (TWh)', 'Others (TWh)']\n",
        "\n",
        "# Calcular z-scores para cada columna\n",
        "z_scores = prod_ren_fil[cols].apply(zscore)\n",
        "\n",
        "# Detectar outliers\n",
        "outliers = (np.abs(z_scores) > 3) #Se usa el 3 ya que se considera que es el valor de la desviacion donde cae el 99,7% de los valores\n",
        "\n",
        "# Visualizar con boxplots\n",
        "plt.figure(figsize=(10, 5))\n",
        "sns.boxplot(data=prod_ren_fil[cols], color='blue')\n",
        "plt.title('Boxplots de múltiples fuentes de energía renovable (outliers visibles)')\n",
        "plt.xticks(rotation=45)\n",
        "plt.tight_layout()\n",
        "plt.show()"
      ],
      "metadata": {
        "colab": {
          "base_uri": "https://localhost:8080/",
          "height": 507
        },
        "id": "jt52iOVopd1w",
        "outputId": "fb82fcee-fdb7-46c2-d6b8-0505c13a750d"
      },
      "execution_count": null,
      "outputs": [
        {
          "output_type": "display_data",
          "data": {
            "text/plain": [
              "<Figure size 1000x500 with 1 Axes>"
            ],
            "image/png": "[encoded data removed]"
          },
          "metadata": {}
        }
      ]
    },
    {
      "cell_type": "markdown",
      "source": [
        "Lo que podemos preguntarnos en base a los resultados obtenidos en el anterior grafico es a que pais o paises les pertenecen los altos valores de produccion hidroelectrica encontrada que se alejan de la media."
      ],
      "metadata": {
        "id": "xDnYscVX0sk5"
      }
    },
    {
      "cell_type": "code",
      "source": [
        "# Vamos a obtener el nombre del pais o paises cuya produccion hidroelectrica se encuentra por encima de 500 TWh\n",
        "count_hydro_500 = prod_ren_fil[prod_ren_fil['Hydro (TWh)'] > 500]\n",
        "print(count_hydro_500['Country'])"
      ],
      "metadata": {
        "colab": {
          "base_uri": "https://localhost:8080/"
        },
        "id": "IQCBi2Vz0sIX",
        "outputId": "409ce035-7060-4e3c-bbf1-a20308041e56"
      },
      "execution_count": null,
      "outputs": [
        {
          "output_type": "stream",
          "name": "stdout",
          "text": [
            "1287    China\n",
            "1288    China\n",
            "1289    China\n",
            "1290    China\n",
            "1291    China\n",
            "1292    China\n",
            "1293    China\n",
            "1294    China\n",
            "1295    China\n",
            "1296    China\n",
            "1297    China\n",
            "1298    China\n",
            "1299    China\n",
            "1300    China\n",
            "Name: Country, dtype: object\n"
          ]
        }
      ]
    },
    {
      "cell_type": "markdown",
      "source": [
        "Observamos que aquel que presenta la mayor produccion es China, lo que nos lleva a analizar cual es su situacion en materia de lo anterior.\n",
        "\n",
        "China es el mayor productor mundial de energía hidroeléctrica, con una producción de 1,301,702 GWh en 2021. La capacidad hidroeléctrica instalada en China en 2021 fue de 390,9 GW, incluyendo 36,4 GW de capacidad hidroeléctrica de almacenamiento por bombeo.\n",
        "\n",
        "En 2020, China instaló 370 millones de kW de capacidad hidroeléctrica y generó un récord de 1.214 billones de kWh de energía. En total, China es líder mundial en producción hidroeléctrica, con aproximadamente el 29% de la capacidad hidroeléctrica mundial.\n"
      ],
      "metadata": {
        "id": "BUJ6knon2JO1"
      }
    },
    {
      "cell_type": "code",
      "source": [
        "#Cual es el mayor valor de produccion Hidraulica de China y en que a;o fue\n",
        "\n",
        "# Filtrar los datos de China\n",
        "china_hydro = prod_ren_fil[prod_ren_fil['Country'] == 'China']\n",
        "\n",
        "# Obtener el año y valor máximo de producción hidroeléctrica\n",
        "max_hidro_china = china_hydro.loc[china_hydro['Hydro (TWh)'].idxmax()]\n",
        "print(f\"El mayor valor de producción hidroeléctrica de China fue {max_hidro_china['Hydro (TWh)']} TWh en el año {int(max_hidro_china['Year'])}.\")"
      ],
      "metadata": {
        "colab": {
          "base_uri": "https://localhost:8080/"
        },
        "id": "9tbxdM0y2XGT",
        "outputId": "19463a41-5bf5-44e0-9015-f497bcd3d294"
      },
      "execution_count": null,
      "outputs": [
        {
          "output_type": "stream",
          "name": "stdout",
          "text": [
            "El mayor valor de producción hidroeléctrica de China fue 1321.71 TWh en el año 2020.\n"
          ]
        }
      ]
    },
    {
      "cell_type": "code",
      "source": [
        "# Ahora veamos cuanto de la produccion mundial de energia hidroelectrica (En procentaje) lo aporta solamente China\n",
        "\n"
      ],
      "metadata": {
        "id": "r6JoGhvX4R1l"
      },
      "execution_count": null,
      "outputs": []
    },
    {
      "cell_type": "markdown",
      "source": [
        "## Producción de energía renovable por continente y su comparación con la distribución mundial\n",
        "\n",
        "Se reliza una suma de los valores historicos desde 1997, luego se trabaja con sus valores porcentuales ya que aportan mayor informacion en su visualizacion"
      ],
      "metadata": {
        "id": "mvCJRHM2p2eV"
      }
    },
    {
      "cell_type": "code",
      "source": [
        "production_by_cont = cont_prod.groupby('Country')[['Wind (TWh)', 'Hydro (TWh)', 'Solar (TWh)', 'Others (TWh)']].sum()\n",
        "continent_percent = production_by_cont.div(production_by_cont.sum(axis=1), axis=0) * 100 #Lo convierto en porcentual para graficar\n",
        "print(continent_percent)"
      ],
      "metadata": {
        "colab": {
          "base_uri": "https://localhost:8080/"
        },
        "id": "IAzzAzz3pj5w",
        "outputId": "8720622b-7853-4c93-ba49-13b91edba265"
      },
      "execution_count": null,
      "outputs": [
        {
          "output_type": "stream",
          "name": "stdout",
          "text": [
            "               Wind (TWh)  Hydro (TWh)  Solar (TWh)  Others (TWh)\n",
            "Country                                                          \n",
            "Africa           2.980871    91.895045     1.704251      3.419833\n",
            "Asia             8.606658    79.698022     4.824527      6.870792\n",
            "Europe           9.909615    79.655663     2.903867      7.530855\n",
            "North America    8.084349    81.008779     1.912544      8.994328\n",
            "Oceania          7.790422    76.789489     4.205834     11.214254\n",
            "South America    1.985404    93.716886     0.384699      3.913010\n",
            "World            7.729968    82.267575     2.839695      7.162761\n"
          ]
        }
      ]
    },
    {
      "cell_type": "markdown",
      "source": [
        "Observando los porcentajes, concluimos en que la tendencia mundial en la utilizacion de energia renovables recaer en la hidroelectrica en primer lugar, seguida por mucha diferencia de la eolica en segundo lugar."
      ],
      "metadata": {
        "id": "ZGLPu7-asxA0"
      }
    },
    {
      "cell_type": "code",
      "source": [
        "colors = sns.color_palette(\"crest\")  # \"flare\", \"crest\", \"rocket_r\", \"rocket\"\n",
        "\n",
        "continent_percent.plot(kind='bar', stacked=True, figsize=(10,6), color=colors)\n",
        "plt.title('Distribución porcentual de producción por tipo de energía renovable por continente')\n",
        "plt.ylabel('Porcentaje (%)')\n",
        "plt.xlabel('Continente')\n",
        "plt.xticks(rotation=45, ha='right') #Gira la etiqueta de nombres de las regiones 45 grados debido a que son muy largas\n",
        "plt.legend(title='Tipo de Energía', bbox_to_anchor=(1,1), loc='upper left') #Ubica la leyenda de los datos en la esquina superior derecha\n",
        "plt.tight_layout() #Acomoda las cosas en el grafico para que no se superpongan\n",
        "plt.show()"
      ],
      "metadata": {
        "colab": {
          "base_uri": "https://localhost:8080/",
          "height": 607
        },
        "id": "p_MRM6uuqGLf",
        "outputId": "702e9a4f-774c-41ee-b9fe-d04f385d51ec"
      },
      "execution_count": null,
      "outputs": [
        {
          "output_type": "display_data",
          "data": {
            "text/plain": [
              "<Figure size 1000x600 with 1 Axes>"
            ],
            "image/png": "[encoded data removed]"
          },
          "metadata": {}
        }
      ]
    },
    {
      "cell_type": "markdown",
      "source": [
        "## Analizamos la produccion de energia renovable por region"
      ],
      "metadata": {
        "id": "YwX94x9GspVI"
      }
    },
    {
      "cell_type": "code",
      "source": [
        "production_by_region = region_prod.groupby('Country')[['Wind (TWh)', 'Hydro (TWh)', 'Solar (TWh)', 'Others (TWh)']].sum()\n",
        "region_percent = production_by_region.div(production_by_region.sum(axis=1), axis=0) * 100\n",
        "print(region_percent)"
      ],
      "metadata": {
        "id": "WqATfu9jPjB-",
        "colab": {
          "base_uri": "https://localhost:8080/"
        },
        "outputId": "409e9c76-e4f3-4556-f7c6-c17257bd4bb6"
      },
      "execution_count": null,
      "outputs": [
        {
          "output_type": "stream",
          "name": "stdout",
          "text": [
            "                           Wind (TWh)  Hydro (TWh)  Solar (TWh)  Others (TWh)\n",
            "Country                                                                      \n",
            "Asia Pacific                 9.037122    78.624007     5.079989      7.258882\n",
            "Central America              3.831781    76.290221     1.419332     18.458666\n",
            "Eastern Africa               0.592874    93.799978     0.381967      5.225181\n",
            "European Union              16.535060    66.432702     5.327792     11.704447\n",
            "Middle Africa                0.007729    99.664922     0.076416      0.250934\n",
            "Middle East                  1.447908    91.858392     6.295193      0.398507\n",
            "North America                8.084349    81.008779     1.912544      8.994328\n",
            "South and Central America    2.102738    92.338984     0.451886      5.106392\n",
            "Western Africa               0.314317    98.024978     0.686425      0.974280\n"
          ]
        }
      ]
    },
    {
      "cell_type": "markdown",
      "source": [
        "Resulta de interes observar que aunque la tabla es liderada por la energia hidraulica, es posible observar el caso de regiones como Centro America que tiene un gran aporte en la categoria \"Others\" coincidente con la grandes inversiones realizadas para potenciar la energia proveniente de fuentes geotermicas.\n",
        "\n",
        "(Ver Costa Rica, El Salvador y Nicaragua)"
      ],
      "metadata": {
        "id": "nK8Ccgm9vAjZ"
      }
    },
    {
      "cell_type": "code",
      "source": [
        "colors = sns.color_palette(\"crest\")  # \"flare\", \"crest\", \"rocket_r\", \"rocket\"\n",
        "\n",
        "region_percent.plot(kind='bar', stacked=True, figsize=(10,6), color=colors)\n",
        "plt.title('Distribución porcentual de producción por tipo de energía renovable')\n",
        "plt.ylabel('Porcentaje (%)')\n",
        "plt.xlabel('Región')\n",
        "plt.xticks(rotation=45, ha='right') #Gira la etiqueta de nombres de las regiones 45 grados debido a que son muy largas\n",
        "plt.legend(title='Tipo de Energía', bbox_to_anchor=(1,1), loc='upper left') #Ubica la leyenda de los datos en la esquina superior derecha\n",
        "plt.tight_layout() #Acomoda las cosas en el grafico para que no se superpongan\n",
        "plt.show()"
      ],
      "metadata": {
        "id": "-SjfvOtTYM7r",
        "colab": {
          "base_uri": "https://localhost:8080/",
          "height": 607
        },
        "outputId": "85e0c77c-7c20-482a-f69e-f54b834e2dcb"
      },
      "execution_count": null,
      "outputs": [
        {
          "output_type": "display_data",
          "data": {
            "text/plain": [
              "<Figure size 1000x600 with 1 Axes>"
            ],
            "image/png": "[encoded data removed]"
          },
          "metadata": {}
        }
      ]
    }
  ]
}